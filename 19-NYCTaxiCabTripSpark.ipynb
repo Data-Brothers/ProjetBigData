{
 "cells": [
  {
   "cell_type": "markdown",
   "metadata": {
    "cell_id": "00000-fed2f096-7d65-49d7-9e26-b534726f0581",
    "deepnote_cell_type": "markdown"
   },
   "source": [
    "# Spark dataframes on HDFS\n",
    "\n",
    "New York City Taxi Cab Trip\n",
    "\n",
    "We look at [the New York City Taxi Cab dataset](http://www.nyc.gov/html/tlc/html/about/trip_record_data.shtml). This includes every ride made in the city of New York since 2009.\n",
    "\n",
    "On [this website](http://chriswhong.github.io/nyctaxi/) you can see the data for one random NYC yellow taxi on a single day.\n",
    "\n",
    "On [this post](http://toddwschneider.com/posts/analyzing-1-1-billion-nyc-taxi-and-uber-trips-with-a-vengeance/), you can see an analysis of this dataset. Postgres and R scripts are available on [GitHub](https://github.com/toddwschneider/nyc-taxi-data)."
   ]
  },
  {
   "cell_type": "markdown",
   "metadata": {
    "cell_id": "00001-3cd6a9c1-5054-4e7c-b0d1-e4e348683ddd",
    "deepnote_cell_type": "markdown"
   },
   "source": [
    "## Loading the data\n",
    "\n",
    "Normally we would read and load this data into memory as a Pandas dataframe.  However in this case that would be unwise because this data is too large to fit in RAM.\n",
    "\n",
    "The data can stay in the hdfs filesystem but for performance reason we can't use the csv format. The file is large (32Go) and text formatted. Data Access is very slow.\n",
    "\n",
    "You can convert csv file to parquet with Spark."
   ]
  },
  {
   "cell_type": "markdown",
   "metadata": {
    "cell_id": "00003-64de320b-50aa-4928-9884-23b77f541459",
    "deepnote_cell_type": "markdown"
   },
   "source": [
    "## Spark Cluster\n",
    "\n",
    "A Spark cluster is available and described on this [web interface](http://svmass2.mass.uhb.fr:8080)\n",
    "\n",
    "![](images/cluster-overview.png)\n",
    "\n",
    "```py\n",
    "from pyspark.sql import SparkSession\n",
    "spark = SparkSession.builder \\\n",
    "        .master('spark://svmass2.mass.uhb.fr:7077') \\\n",
    "        .getOrCreate()\n",
    "spark\n",
    "```\n",
    "\n",
    "The SparkSession is connected to the Spark’s own standalone cluster manager (It is also possible to use YARN). The manager allocate resources across applications. Once connected, Spark acquires executors on nodes in the cluster, which are processes that run computations and store data for your application. Next, it sends your application code (Python file) to the executors. Finally, tasks are sent to the executors to run.\n",
    "\n",
    "Spark can access to files located on hdfs and it is also possible to access to local files. Example:\n",
    "\n",
    "```py\n",
    "df = spark.read.parquet('file:///home/navaro_p/nyc-taxi/2016.parquet')\n",
    "```\n",
    "\n",
    "### Exercise\n",
    "\n",
    "- Pick a year and read and convert csv files to parquet in your hdfs homedirectory.\n",
    "- **Don't run the python code inside a notebook cell**. Save a python script and launch it from a terminal instead.\n",
    "In Jupyter notebook you won't see any progress or information if error occurs.\n",
    "- Use the [`spark-submit`](https://spark.apache.org/docs/latest/submitting-applications.html) command shell to run your script on the cluster.\n",
    "- You can control the log with \n",
    "```py\n",
    "spark.sparkContext.setLogLevel('ERROR')\n",
    "```\n",
    "Valid log levels include: ALL, DEBUG, ERROR, FATAL, INFO, OFF, TRACE, WARN\n",
    "\n",
    "**Try your script with a single file before to do it for a whole year.**\n",
    "\n",
    "**Read carefully the script given above, don't submit it as is. You have to change some\n",
    "part of this code**"
   ]
  },
  {
   "cell_type": "markdown",
   "metadata": {
    "cell_id": "00004-1b1bb60b-720d-42f8-8643-7b4812088e73",
    "deepnote_cell_type": "markdown"
   },
   "source": [
    "## Some examples that can be run on the cluster\n",
    "\n",
    "- Here we read the NYC taxi data files of year 2016 and select some variables.\n",
    "\n",
    "```py\n",
    "columns = ['tpep_pickup_datetime', 'passenger_count', 'pickup_longitude', 'pickup_latitude', 'dropoff_longitude', 'dropoff_latitude', 'payment_type', 'fare_amount', 'tip_amount', 'total_amount']\n",
    "\n",
    "df = (spark.read.parquet('hdfs://svmass2.mass.uhb.fr:54310/user/navaro/nyc-taxi/2016.parquet').select(*columns))\n",
    "```\n",
    "\n",
    "- Sum the total number of passengers\n",
    "```py\n",
    "df.agg({'passenger_count': 'sum'}).collect()\n",
    "```\n",
    "\n",
    "- Average number of passenger per trip`\n",
    "```py\n",
    "df.agg({'passenger_count': 'avg'}).collect()\n",
    "```\n",
    "\n",
    "- How many trip with 0,1,2,3,...,9 passenger`\n",
    "```py\n",
    "df.groupby('passenger_count').agg({'*': 'count'}).collect()\n",
    "```\n",
    "\n",
    "\n",
    "\n",
    "### Cheat Sheets and documentation\n",
    "\n",
    "- [Spark DataFrames in Python](https://s3.amazonaws.com/assets.datacamp.com/blog_assets/PySpark_SQL_Cheat_Sheet_Python.pdf)\n",
    "- [Spark in Python](http://datacamp-community.s3.amazonaws.com/4d91fcbc-820d-4ae2-891b-f7a436ebefd4)\n",
    "-  https://spark.apache.org/docs/latest/api/python/pyspark.sql.html\n",
    "\n",
    "Use the [PySpark API](https://spark.apache.org/docs/latest/api/python/index.html).\n",
    "\n",
    "- **Write a python program and use `spark-submit`**\n",
    "- **Read the parquet files instead of csv files** \n",
    "- **Don't forget spark.stop() at the end of the script**"
   ]
  },
  {
   "cell_type": "markdown",
   "metadata": {
    "cell_id": "00005-cbfd6d94-01f1-40b7-b047-d662d76f6b88",
    "deepnote_cell_type": "markdown"
   },
   "source": [
    "## Hints\n",
    "\n",
    "- How to remove rows\n",
    "```python\n",
    "df = df.filter(df.name == 'expression')\n",
    "```\n",
    "\n",
    "- How to make new columns\n",
    "```python\n",
    "df = df.withColumn('var2', df.var0 + df.var1)\n",
    "```\n",
    "\n",
    "- How to do groupby-aggregations\n",
    "```python\n",
    "df.groupBy(df.name).agg({'column-name': 'avg'})\n",
    "```\n",
    "\n",
    "When you want to collect the result of your computation, finish with the `.collect()` method."
   ]
  },
  {
   "cell_type": "markdown",
   "metadata": {
    "cell_id": "00006-28a0a4e5-1961-4707-b8d1-9361335f8626",
    "deepnote_cell_type": "markdown"
   },
   "source": [
    "### Exercices "
   ]
  },
  {
   "cell_type": "code",
   "execution_count": 1,
   "metadata": {},
   "outputs": [],
   "source": [
    "from pyspark.sql import SparkSession\n",
    "import matplotlib.pyplot as plt\n",
    "\n",
    "spark = SparkSession.builder \\\n",
    "        .master('local[*]') \\\n",
    "        .getOrCreate()"
   ]
  },
  {
   "cell_type": "code",
   "execution_count": 2,
   "metadata": {},
   "outputs": [],
   "source": [
    "#path_data=\"./data/data_100000.csv\"\n",
    "path_data=\"./data/yellow_tripdata_2016-07.csv\"\n",
    "df = spark.read.csv(path_data, header=\"true\",inferSchema=\"true\")"
   ]
  },
  {
   "cell_type": "code",
   "execution_count": 3,
   "metadata": {
    "scrolled": true
   },
   "outputs": [
    {
     "name": "stdout",
     "output_type": "stream",
     "text": [
      "+--------+--------------------+---------------------+---------------+-------------+----------+------------------+------------+------------+------------+-----------+-----+-------+----------+------------+---------------------+------------+\n",
      "|VendorID|tpep_pickup_datetime|tpep_dropoff_datetime|passenger_count|trip_distance|RatecodeID|store_and_fwd_flag|PULocationID|DOLocationID|payment_type|fare_amount|extra|mta_tax|tip_amount|tolls_amount|improvement_surcharge|total_amount|\n",
      "+--------+--------------------+---------------------+---------------+-------------+----------+------------------+------------+------------+------------+-----------+-----+-------+----------+------------+---------------------+------------+\n",
      "|       1| 2016-07-10 06:56:05|  2016-07-10 06:59:53|              1|          0.5|         1|                 N|         263|         236|           1|        4.5|  1.0|    0.5|       2.7|         0.0|                  0.3|         9.0|\n",
      "|       2| 2016-07-10 10:50:18|  2016-07-10 10:55:21|              5|         1.34|         1|                 N|         142|         163|           1|        6.0|  0.0|    0.5|      1.36|         0.0|                  0.3|        8.16|\n",
      "|       2| 2016-07-10 10:50:18|  2016-07-10 11:08:38|              1|         9.48|         1|                 N|          74|          66|           1|       27.0|  0.0|    0.5|       0.0|         0.0|                  0.3|        27.8|\n",
      "|       1| 2016-07-10 10:50:19|  2016-07-10 10:55:14|              1|          1.0|         1|                 N|         264|         264|           2|        5.5|  0.0|    0.5|       0.0|         0.0|                  0.3|         6.3|\n",
      "|       1| 2016-07-10 10:50:19|  2016-07-10 10:55:47|              1|          0.9|         1|                 N|          48|          68|           2|        5.5|  0.0|    0.5|       0.0|         0.0|                  0.3|         6.3|\n",
      "|       1| 2016-07-10 10:50:19|  2016-07-10 10:55:38|              1|          0.9|         1|                 N|         161|         142|           1|        6.0|  0.0|    0.5|       1.0|         0.0|                  0.3|         7.8|\n",
      "|       2| 2016-07-10 10:50:19|  2016-07-10 10:54:56|              6|         1.07|         1|                 N|         144|         231|           2|        5.5|  0.0|    0.5|       0.0|         0.0|                  0.3|         6.3|\n",
      "|       2| 2016-07-10 10:50:19|  2016-07-10 11:08:54|              1|         7.44|         1|                 N|         226|         261|           1|       23.0|  0.0|    0.5|      4.76|         0.0|                  0.3|       28.56|\n",
      "|       2| 2016-07-10 10:50:19|  2016-07-10 10:56:33|              2|         0.87|         1|                 N|         261|          87|           1|        6.0|  0.0|    0.5|       1.0|         0.0|                  0.3|         7.8|\n",
      "|       2| 2016-07-10 10:50:19|  2016-07-10 11:02:27|              5|         3.02|         1|                 N|         263|         164|           1|       11.5|  0.0|    0.5|      2.46|         0.0|                  0.3|       14.76|\n",
      "|       2| 2016-07-10 10:50:20|  2016-07-10 11:08:35|              5|         3.56|         1|                 N|         236|         186|           1|       15.5|  0.0|    0.5|      3.26|         0.0|                  0.3|       19.56|\n",
      "|       2| 2016-07-10 10:50:20|  2016-07-10 11:19:48|              1|        13.13|         1|                 N|         138|         114|           2|       38.5|  0.0|    0.5|       0.0|        5.54|                  0.3|       44.84|\n",
      "|       1| 2016-07-10 10:50:21|  2016-07-10 11:23:09|              1|          9.6|         1|                 N|         138|         164|           1|       32.0|  0.0|    0.5|      9.58|        5.54|                  0.3|       47.92|\n",
      "|       2| 2016-07-10 10:50:21|  2016-07-10 11:42:37|              1|         11.9|         1|                 N|         138|         113|           1|       45.0|  0.0|    0.5|     12.84|        5.54|                  0.3|       64.18|\n",
      "|       2| 2016-07-10 10:50:21|  2016-07-10 11:09:35|              1|         8.73|         1|                 N|         138|         236|           1|       25.5|  0.0|    0.5|      9.55|        5.54|                  0.3|       41.39|\n",
      "|       2| 2016-07-10 10:50:21|  2016-07-10 10:55:48|              1|         0.78|         1|                 N|         229|         161|           2|        5.5|  0.0|    0.5|       0.0|         0.0|                  0.3|         6.3|\n",
      "|       1| 2016-07-10 10:50:22|  2016-07-10 10:58:23|              1|          1.7|         1|                 N|         144|         170|           1|        8.0|  0.0|    0.5|       1.0|         0.0|                  0.3|         9.8|\n",
      "|       2| 2016-07-10 10:50:22|  2016-07-10 10:55:24|              1|         1.28|         1|                 N|          79|         249|           1|        6.5|  0.0|    0.5|       1.5|         0.0|                  0.3|         8.8|\n",
      "|       2| 2016-07-10 10:50:23|  2016-07-10 10:59:29|              1|         1.05|         1|                 N|         170|         186|           2|        7.5|  0.0|    0.5|       0.0|         0.0|                  0.3|         8.3|\n",
      "|       2| 2016-07-10 10:50:23|  2016-07-10 10:58:31|              1|         2.21|         1|                 N|         161|          43|           1|        9.0|  0.0|    0.5|      1.96|         0.0|                  0.3|       11.76|\n",
      "+--------+--------------------+---------------------+---------------+-------------+----------+------------------+------------+------------+------------+-----------+-----+-------+----------+------------+---------------------+------------+\n",
      "only showing top 20 rows\n",
      "\n"
     ]
    }
   ],
   "source": [
    "df.show()"
   ]
  },
  {
   "cell_type": "markdown",
   "metadata": {},
   "source": [
    "## Exercice 1\n",
    "\n",
    "How well people tip based on the number of passengers in a cab.  To do this you have to:\n",
    "\n",
    "1.  Remove rides with zero fare\n",
    "2.  Add a new column `tip_fraction` that is equal to the ratio of the tip to the fare\n",
    "3.  Group by the `passenger_count` column and take the mean of the `tip_fraction` column."
   ]
  },
  {
   "cell_type": "code",
   "execution_count": 4,
   "metadata": {},
   "outputs": [],
   "source": [
    "from pyspark.sql.functions import date_format,col,trim,to_timestamp,when,avg\n",
    "\n",
    "# Remove rides with zero fare\n",
    "df=df.filter(col(\"fare_amount\")!=0)"
   ]
  },
  {
   "cell_type": "code",
   "execution_count": 5,
   "metadata": {},
   "outputs": [],
   "source": [
    "# Add a new column `tip_fraction` that is equal to the ratio of the tip to the fare\n",
    "df=df.withColumn(\"tip_fraction\",col(\"tip_amount\")/col(\"total_amount\"))"
   ]
  },
  {
   "cell_type": "code",
   "execution_count": 6,
   "metadata": {
    "scrolled": true
   },
   "outputs": [],
   "source": [
    "# Group by the `passenger_count` column and take the mean of the `tip_fraction` column.\n",
    "newdf=(df\n",
    "       .groupBy(\"passenger_count\")\n",
    "       .agg(avg(\"tip_fraction\").alias(\"tip\"))\n",
    "      )"
   ]
  },
  {
   "cell_type": "code",
   "execution_count": 7,
   "metadata": {},
   "outputs": [],
   "source": [
    "## Create Day & Hour Cols\n",
    "\n",
    "\n",
    "dftip=(df.withColumn('ut',to_timestamp(\"tpep_pickup_datetime\",'yyyy-MM-dd HH:mm:ss'))\n",
    "       .select(\"tpep_pickup_datetime\",\"tip_fraction\",'ut')\n",
    "       .select(\"tpep_pickup_datetime\",\"tip_fraction\",\"ut\",\n",
    "               date_format('ut', 'MM/d/yyyy').alias('Date'),\n",
    "               date_format('ut', 'HH').alias('Hour'),\n",
    "               date_format('ut', 'F').alias('Week_day_numeric')))"
   ]
  },
  {
   "cell_type": "code",
   "execution_count": 8,
   "metadata": {},
   "outputs": [
    {
     "name": "stdout",
     "output_type": "stream",
     "text": [
      "+--------------------+-------------------+-------------------+----------+----+----------------+\n",
      "|tpep_pickup_datetime|       tip_fraction|                 ut|      Date|Hour|Week_day_numeric|\n",
      "+--------------------+-------------------+-------------------+----------+----+----------------+\n",
      "| 2016-07-10 06:56:05|0.30000000000000004|2016-07-10 06:56:05|07/10/2016|  06|               3|\n",
      "| 2016-07-10 10:50:18|0.16666666666666669|2016-07-10 10:50:18|07/10/2016|  10|               3|\n",
      "| 2016-07-10 10:50:18|                0.0|2016-07-10 10:50:18|07/10/2016|  10|               3|\n",
      "| 2016-07-10 10:50:19|                0.0|2016-07-10 10:50:19|07/10/2016|  10|               3|\n",
      "| 2016-07-10 10:50:19|                0.0|2016-07-10 10:50:19|07/10/2016|  10|               3|\n",
      "| 2016-07-10 10:50:19|0.12820512820512822|2016-07-10 10:50:19|07/10/2016|  10|               3|\n",
      "| 2016-07-10 10:50:19|                0.0|2016-07-10 10:50:19|07/10/2016|  10|               3|\n",
      "| 2016-07-10 10:50:19|0.16666666666666666|2016-07-10 10:50:19|07/10/2016|  10|               3|\n",
      "| 2016-07-10 10:50:19|0.12820512820512822|2016-07-10 10:50:19|07/10/2016|  10|               3|\n",
      "| 2016-07-10 10:50:19|0.16666666666666666|2016-07-10 10:50:19|07/10/2016|  10|               3|\n",
      "| 2016-07-10 10:50:20|0.16666666666666666|2016-07-10 10:50:20|07/10/2016|  10|               3|\n",
      "| 2016-07-10 10:50:20|                0.0|2016-07-10 10:50:20|07/10/2016|  10|               3|\n",
      "| 2016-07-10 10:50:21|0.19991652754590986|2016-07-10 10:50:21|07/10/2016|  10|               3|\n",
      "| 2016-07-10 10:50:21|0.20006232471174817|2016-07-10 10:50:21|07/10/2016|  10|               3|\n",
      "| 2016-07-10 10:50:21| 0.2307320608842716|2016-07-10 10:50:21|07/10/2016|  10|               3|\n",
      "| 2016-07-10 10:50:21|                0.0|2016-07-10 10:50:21|07/10/2016|  10|               3|\n",
      "| 2016-07-10 10:50:22| 0.1020408163265306|2016-07-10 10:50:22|07/10/2016|  10|               3|\n",
      "| 2016-07-10 10:50:22|0.17045454545454544|2016-07-10 10:50:22|07/10/2016|  10|               3|\n",
      "| 2016-07-10 10:50:23|                0.0|2016-07-10 10:50:23|07/10/2016|  10|               3|\n",
      "| 2016-07-10 10:50:23|0.16666666666666666|2016-07-10 10:50:23|07/10/2016|  10|               3|\n",
      "+--------------------+-------------------+-------------------+----------+----+----------------+\n",
      "only showing top 20 rows\n",
      "\n"
     ]
    }
   ],
   "source": [
    "dftip.show()"
   ]
  },
  {
   "cell_type": "markdown",
   "metadata": {},
   "source": [
    "1. Investigate the `payment_type` column.  \n",
    "   See how well each of the payment types correlate with the `tip_fraction`. \n",
    "   \n",
    "   Did you find anything interesting ? \n",
    "   \n",
    "   Any guesses on what the different payment types might be?\n",
    "   \n",
    "   If you're interested you may be able to find more information on the [NYC TLC's website](http://www.nyc.gov/html/tlc/html/about/trip_record_data.shtml)"
   ]
  },
  {
   "cell_type": "code",
   "execution_count": 9,
   "metadata": {},
   "outputs": [],
   "source": [
    "import pyspark.sql.functions as F\n",
    "import matplotlib.pyplot as plt\n",
    "\n",
    "categ = df.select(\"payment_type\").distinct().rdd.flatMap(lambda x:x).collect()\n",
    "exprs = [F.when(F.col(\"payment_type\") == cat,1).otherwise(0)\\\n",
    "            .alias(\"payment_type_\"+str(cat)) for cat in categ]\n",
    "df_corr = df.select(exprs+df.columns)\n",
    "#indexed.select(\"tip_fraction\",\"payment_typeIndex\").groupBy(\"payment_typeIndex\").agg(avg(\"tip_fraction\").alias(\"tip\")).show()"
   ]
  },
  {
   "cell_type": "code",
   "execution_count": 10,
   "metadata": {},
   "outputs": [
    {
     "name": "stdout",
     "output_type": "stream",
     "text": [
      "['payment_type_1', 'payment_type_3', 'payment_type_4', 'payment_type_2']\n"
     ]
    }
   ],
   "source": [
    "import re\n",
    "\n",
    "p = re.compile('payment_type_')\n",
    "l1 = df_corr.columns\n",
    "selected_cols = [ s for s in l1 if p.match(s) ]\n",
    "\n",
    "print(selected_cols)"
   ]
  },
  {
   "cell_type": "code",
   "execution_count": 11,
   "metadata": {
    "scrolled": true
   },
   "outputs": [
    {
     "name": "stdout",
     "output_type": "stream",
     "text": [
      "+-------------------+--------------+--------------+--------------+--------------+\n",
      "|       tip_fraction|payment_type_1|payment_type_3|payment_type_4|payment_type_2|\n",
      "+-------------------+--------------+--------------+--------------+--------------+\n",
      "|0.30000000000000004|             1|             0|             0|             0|\n",
      "|0.16666666666666669|             1|             0|             0|             0|\n",
      "|                0.0|             1|             0|             0|             0|\n",
      "|                0.0|             0|             0|             0|             1|\n",
      "|                0.0|             0|             0|             0|             1|\n",
      "|0.12820512820512822|             1|             0|             0|             0|\n",
      "|                0.0|             0|             0|             0|             1|\n",
      "|0.16666666666666666|             1|             0|             0|             0|\n",
      "|0.12820512820512822|             1|             0|             0|             0|\n",
      "|0.16666666666666666|             1|             0|             0|             0|\n",
      "|0.16666666666666666|             1|             0|             0|             0|\n",
      "|                0.0|             0|             0|             0|             1|\n",
      "|0.19991652754590986|             1|             0|             0|             0|\n",
      "|0.20006232471174817|             1|             0|             0|             0|\n",
      "| 0.2307320608842716|             1|             0|             0|             0|\n",
      "|                0.0|             0|             0|             0|             1|\n",
      "| 0.1020408163265306|             1|             0|             0|             0|\n",
      "|0.17045454545454544|             1|             0|             0|             0|\n",
      "|                0.0|             0|             0|             0|             1|\n",
      "|0.16666666666666666|             1|             0|             0|             0|\n",
      "+-------------------+--------------+--------------+--------------+--------------+\n",
      "only showing top 20 rows\n",
      "\n"
     ]
    }
   ],
   "source": [
    "df_corr=df_corr.select([\"tip_fraction\"]+selected_cols)\n",
    "df_corr.show()"
   ]
  },
  {
   "cell_type": "code",
   "execution_count": 12,
   "metadata": {},
   "outputs": [],
   "source": [
    "from pyspark.ml.stat import Correlation\n",
    "from pyspark.ml.feature import VectorAssembler\n",
    "import numpy as np\n",
    "\n",
    "# convert to vector column first\n",
    "vector_col = \"corr_features\"\n",
    "assembler = VectorAssembler(inputCols=[\"tip_fraction\"]+selected_cols, outputCol=vector_col)\n",
    "df_vector = assembler.transform(df_corr).select(vector_col)\n",
    "\n",
    "# get correlation matrix\n",
    "matrix = Correlation.corr(df_vector, vector_col)\n",
    "\n",
    "corr_mat=matrix.collect()[0][\"pearson({})\".format(vector_col)].values\n",
    "corr_mat=np.absolute(np.resize(corr_mat,(5,1)).flatten()[1:])"
   ]
  },
  {
   "cell_type": "code",
   "execution_count": 13,
   "metadata": {},
   "outputs": [
    {
     "name": "stdout",
     "output_type": "stream",
     "text": [
      "La modalité la plus correlee avec tip_fraction est la modalite '1'.\n"
     ]
    }
   ],
   "source": [
    "columns=[re.sub('payment_type_','',sel) for sel in selected_cols]\n",
    "txt=f\"La modalité la plus correlee avec tip_fraction est la modalite '{columns[np.argmax(corr_mat)]}'.\"\n",
    "print(txt)"
   ]
  },
  {
   "cell_type": "markdown",
   "metadata": {},
   "source": [
    "Le résultat est attendue étant donné que la modalité 1 est `Credit card` car c'est plus facile de tiper par carte."
   ]
  },
  {
   "cell_type": "markdown",
   "metadata": {},
   "source": [
    "3. Grouper par nombre de passagers et calculer la moyenne de tip_fraction"
   ]
  },
  {
   "cell_type": "code",
   "execution_count": 14,
   "metadata": {},
   "outputs": [],
   "source": [
    "dfgrp=df.select(\"tip_fraction\",\"Passenger_count\").groupBy(\"Passenger_count\").agg(avg(\"tip_fraction\").alias(\"tip\"))"
   ]
  },
  {
   "cell_type": "code",
   "execution_count": 15,
   "metadata": {},
   "outputs": [
    {
     "name": "stdout",
     "output_type": "stream",
     "text": [
      "+---------------+-------------------+\n",
      "|Passenger_count|                tip|\n",
      "+---------------+-------------------+\n",
      "|              1|0.09806775334007371|\n",
      "|              6|0.09555285198058489|\n",
      "|              3|0.08751321704448939|\n",
      "|              5|0.09590567620026173|\n",
      "|              9|0.05555555555555555|\n",
      "|              4|0.07647744364764823|\n",
      "|              8|0.11058606451322554|\n",
      "|              7|0.18965517241379312|\n",
      "|              2|0.09426328115993497|\n",
      "|              0|0.03463733945670688|\n",
      "+---------------+-------------------+\n",
      "\n"
     ]
    }
   ],
   "source": [
    "dfgrp.show()"
   ]
  },
  {
   "cell_type": "markdown",
   "metadata": {},
   "source": [
    "4. Tracez la générosité en `tip_fraction` des New-Yorkais en fonction de l'heure du jour puis du jour de la semaine."
   ]
  },
  {
   "cell_type": "code",
   "execution_count": 17,
   "metadata": {},
   "outputs": [],
   "source": [
    "## By Hour\n",
    "df_hour=dftip.select(\"tip_fraction\",\"Hour\")\n",
    "df_plot_h=df_hour.groupBy(\"Hour\").agg(avg(\"tip_fraction\").alias(\"tip\")).orderBy('Hour').toPandas()\n",
    "df_plot_h[\"Hour\"]=df_plot_h[\"Hour\"].astype(\"category\")\n",
    "\n",
    "## By Week-day \n",
    "df_wd=dftip.select(\"tip_fraction\",'Week_day_numeric')\n",
    "df_plot_wd=df_wd.groupBy(\"Week_day_numeric\").agg(avg(\"tip_fraction\").alias(\"tip\")).orderBy(\"Week_day_numeric\").toPandas()"
   ]
  },
  {
   "cell_type": "code",
   "execution_count": 19,
   "metadata": {},
   "outputs": [
    {
     "name": "stdout",
     "output_type": "stream",
     "text": [
      "AxesSubplot(0.125,0.125;0.775x0.755)\n"
     ]
    },
    {
     "data": {
      "image/png": "[encoded data removed]",
      "text/plain": [
       "<Figure size 432x288 with 1 Axes>"
      ]
     },
     "metadata": {
      "needs_background": "light"
     },
     "output_type": "display_data"
    }
   ],
   "source": [
    "print(df_plot_h.plot(x='Hour',y='tip'))"
   ]
  },
  {
   "cell_type": "code",
   "execution_count": 21,
   "metadata": {},
   "outputs": [
    {
     "name": "stdout",
     "output_type": "stream",
     "text": [
      "AxesSubplot(0.125,0.125;0.775x0.755)\n"
     ]
    },
    {
     "data": {
      "image/png": "[encoded data removed]",
      "text/plain": [
       "<Figure size 432x288 with 1 Axes>"
      ]
     },
     "metadata": {
      "needs_background": "light"
     },
     "output_type": "display_data"
    }
   ],
   "source": [
    "print(df_plot_wd.plot(x='Week_day_numeric',y='tip'))"
   ]
  },
  {
   "cell_type": "markdown",
   "metadata": {},
   "source": [
    "5. Décrivez l'évolution des deux courbes :\n",
    "\n",
    "Il semblerait que"
   ]
  },
  {
   "cell_type": "code",
   "execution_count": 29,
   "metadata": {
    "scrolled": true
   },
   "outputs": [
    {
     "name": "stdout",
     "output_type": "stream",
     "text": [
      "+---------------+-------------+----------+------------+------------+------------+-----------+----------+------------+---------------------+-------------------+--------+\n",
      "|passenger_count|trip_distance|RatecodeID|PULocationID|DOLocationID|payment_type|fare_amount|tip_amount|tolls_amount|improvement_surcharge|       tip_fraction|Duration|\n",
      "+---------------+-------------+----------+------------+------------+------------+-----------+----------+------------+---------------------+-------------------+--------+\n",
      "|              1|          0.5|         1|         263|         236|           1|        4.5|       2.7|         0.0|                  0.3|0.30000000000000004|     228|\n",
      "|              5|         1.34|         1|         142|         163|           1|        6.0|      1.36|         0.0|                  0.3|0.16666666666666669|     303|\n",
      "|              1|         9.48|         1|          74|          66|           1|       27.0|       0.0|         0.0|                  0.3|                0.0|    1100|\n",
      "|              1|          1.0|         1|         264|         264|           2|        5.5|       0.0|         0.0|                  0.3|                0.0|     295|\n",
      "|              1|          0.9|         1|          48|          68|           2|        5.5|       0.0|         0.0|                  0.3|                0.0|     328|\n",
      "+---------------+-------------+----------+------------+------------+------------+-----------+----------+------------+---------------------+-------------------+--------+\n",
      "only showing top 5 rows\n",
      "\n"
     ]
    }
   ],
   "source": [
    "timeFmt='yyyy-MM-dd HH:mm:ss'\n",
    "timeDiff = (F.unix_timestamp('EndDateTime', format=timeFmt)- F.unix_timestamp('StartDateTime', format=timeFmt))\n",
    "\n",
    "df=(df.withColumn('StartDateTime',to_timestamp(\"tpep_pickup_datetime\",timeFmt))\n",
    "    .withColumn('EndDateTime',to_timestamp(\"tpep_dropoff_datetime\",timeFmt))\n",
    "    .withColumn(\"Duration\", timeDiff))\n",
    "\n",
    "df_ML=df.drop(\"tpep_pickup_datetime\",\n",
    "              \"tpep_dropoff_datetime\",\n",
    "              'StartDateTime',\n",
    "              'EndDateTime',\n",
    "              'store_and_fwd_flag',\n",
    "              'VendorID','extra','mta_tax','total_amount')\n",
    "df_ML.show(5)\n",
    "\n"
   ]
  },
  {
   "cell_type": "code",
   "execution_count": null,
   "metadata": {},
   "outputs": [],
   "source": [
    "from pyspark.ml import Pipeline\n",
    "from pyspark.ml.regression import RandomForestRegressor\n",
    "from pyspark.ml.feature import VectorIndexer\n",
    "from pyspark.ml.evaluation import RegressionEvaluator\n",
    "from pyspark.ml.feature import VectorAssembler\n",
    "\n",
    "# Load and parse the data file, converting it to a DataFrame.\n",
    "data = df_ML\n",
    "# Automatically identify categorical features, and index them.\n",
    "# Set maxCategories so features with > 4 distinct values are treated as continuous.\n",
    "\n",
    "required_features=data.columns\n",
    "\n",
    "assembler = VectorAssembler(inputCols=required_features, outputCol='features')\n",
    "\n",
    "# Split the data into training and test sets (30% held out for testing)\n",
    "(trainingData, testData) = data.randomSplit([0.7, 0.3])\n",
    "\n",
    "# Train a RandomForest model.\n",
    "rf = RandomForestRegressor(featuresCol='features',labelCol=\"fare_amount\",numTrees=250,featureSubsetStrategy='all')\n",
    "\n",
    "# Chain indexer and forest in a Pipeline\n",
    "pipeline = Pipeline(stages=[assembler, rf])\n",
    "\n",
    "# Train model.  This also runs the indexer.\n",
    "model = pipeline.fit(trainingData)\n",
    "\n",
    "# Make predictions.\n",
    "predictions = model.transform(testData)\n",
    "\n",
    "# Select example rows to display.\n",
    "predictions.select(\"prediction\", \"fare_amount\", \"features\").show(5)\n",
    "\n",
    "# Select (prediction, true label) and compute test error\n",
    "evaluator = RegressionEvaluator(labelCol=\"fare_amount\",\n",
    "                                predictionCol=\"prediction\",\n",
    "                                metricName=\"rmse\")\n",
    "\n",
    "rmse = evaluator.evaluate(predictions)\n",
    "\n",
    "print(\"Root Mean Squared Error (RMSE) on test data = %g\" % rmse)"
   ]
  },
  {
   "cell_type": "code",
   "execution_count": 184,
   "metadata": {},
   "outputs": [
    {
     "name": "stderr",
     "output_type": "stream",
     "text": [
      "ERROR:py4j.java_gateway:An error occurred while trying to connect to the Java server (127.0.0.1:33259)\n",
      "Traceback (most recent call last):\n",
      "  File \"/home/pierre/miniconda3/envs/python38/lib/python3.8/site-packages/py4j/java_gateway.py\", line 977, in _get_connection\n",
      "    connection = self.deque.pop()\n",
      "IndexError: pop from an empty deque\n",
      "\n",
      "During handling of the above exception, another exception occurred:\n",
      "\n",
      "Traceback (most recent call last):\n",
      "  File \"/home/pierre/miniconda3/envs/python38/lib/python3.8/site-packages/py4j/java_gateway.py\", line 1115, in start\n",
      "    self.socket.connect((self.address, self.port))\n",
      "ConnectionRefusedError: [Errno 111] Connection refused\n",
      "/home/pierre/miniconda3/envs/python38/lib/python3.8/site-packages/pyspark/context.py:451: RuntimeWarning: Unable to cleanly shutdown Spark JVM process. It is possible that the process has crashed, been killed or may also be in a zombie state.\n",
      "  warnings.warn(\n",
      "ERROR:py4j.java_gateway:An error occurred while trying to connect to the Java server (127.0.0.1:33259)\n",
      "Traceback (most recent call last):\n",
      "  File \"/home/pierre/miniconda3/envs/python38/lib/python3.8/site-packages/py4j/java_gateway.py\", line 977, in _get_connection\n",
      "    connection = self.deque.pop()\n",
      "IndexError: pop from an empty deque\n",
      "\n",
      "During handling of the above exception, another exception occurred:\n",
      "\n",
      "Traceback (most recent call last):\n",
      "  File \"/home/pierre/miniconda3/envs/python38/lib/python3.8/site-packages/py4j/java_gateway.py\", line 1115, in start\n",
      "    self.socket.connect((self.address, self.port))\n",
      "ConnectionRefusedError: [Errno 111] Connection refused\n"
     ]
    },
    {
     "ename": "Py4JNetworkError",
     "evalue": "An error occurred while trying to connect to the Java server (127.0.0.1:33259)",
     "output_type": "error",
     "traceback": [
      "\u001b[0;31m---------------------------------------------------------------------------\u001b[0m",
      "\u001b[0;31mIndexError\u001b[0m                                Traceback (most recent call last)",
      "\u001b[0;32m~/miniconda3/envs/python38/lib/python3.8/site-packages/py4j/java_gateway.py\u001b[0m in \u001b[0;36m_get_connection\u001b[0;34m(self)\u001b[0m\n\u001b[1;32m    976\u001b[0m         \u001b[0;32mtry\u001b[0m\u001b[0;34m:\u001b[0m\u001b[0;34m\u001b[0m\u001b[0;34m\u001b[0m\u001b[0m\n\u001b[0;32m--> 977\u001b[0;31m             \u001b[0mconnection\u001b[0m \u001b[0;34m=\u001b[0m \u001b[0mself\u001b[0m\u001b[0;34m.\u001b[0m\u001b[0mdeque\u001b[0m\u001b[0;34m.\u001b[0m\u001b[0mpop\u001b[0m\u001b[0;34m(\u001b[0m\u001b[0;34m)\u001b[0m\u001b[0;34m\u001b[0m\u001b[0;34m\u001b[0m\u001b[0m\n\u001b[0m\u001b[1;32m    978\u001b[0m         \u001b[0;32mexcept\u001b[0m \u001b[0mIndexError\u001b[0m\u001b[0;34m:\u001b[0m\u001b[0;34m\u001b[0m\u001b[0;34m\u001b[0m\u001b[0m\n",
      "\u001b[0;31mIndexError\u001b[0m: pop from an empty deque",
      "\nDuring handling of the above exception, another exception occurred:\n",
      "\u001b[0;31mConnectionRefusedError\u001b[0m                    Traceback (most recent call last)",
      "\u001b[0;32m~/miniconda3/envs/python38/lib/python3.8/site-packages/py4j/java_gateway.py\u001b[0m in \u001b[0;36mstart\u001b[0;34m(self)\u001b[0m\n\u001b[1;32m   1114\u001b[0m         \u001b[0;32mtry\u001b[0m\u001b[0;34m:\u001b[0m\u001b[0;34m\u001b[0m\u001b[0;34m\u001b[0m\u001b[0m\n\u001b[0;32m-> 1115\u001b[0;31m             \u001b[0mself\u001b[0m\u001b[0;34m.\u001b[0m\u001b[0msocket\u001b[0m\u001b[0;34m.\u001b[0m\u001b[0mconnect\u001b[0m\u001b[0;34m(\u001b[0m\u001b[0;34m(\u001b[0m\u001b[0mself\u001b[0m\u001b[0;34m.\u001b[0m\u001b[0maddress\u001b[0m\u001b[0;34m,\u001b[0m \u001b[0mself\u001b[0m\u001b[0;34m.\u001b[0m\u001b[0mport\u001b[0m\u001b[0;34m)\u001b[0m\u001b[0;34m)\u001b[0m\u001b[0;34m\u001b[0m\u001b[0;34m\u001b[0m\u001b[0m\n\u001b[0m\u001b[1;32m   1116\u001b[0m             \u001b[0mself\u001b[0m\u001b[0;34m.\u001b[0m\u001b[0mstream\u001b[0m \u001b[0;34m=\u001b[0m \u001b[0mself\u001b[0m\u001b[0;34m.\u001b[0m\u001b[0msocket\u001b[0m\u001b[0;34m.\u001b[0m\u001b[0mmakefile\u001b[0m\u001b[0;34m(\u001b[0m\u001b[0;34m\"rb\"\u001b[0m\u001b[0;34m)\u001b[0m\u001b[0;34m\u001b[0m\u001b[0;34m\u001b[0m\u001b[0m\n",
      "\u001b[0;31mConnectionRefusedError\u001b[0m: [Errno 111] Connection refused",
      "\nDuring handling of the above exception, another exception occurred:\n",
      "\u001b[0;31mPy4JNetworkError\u001b[0m                          Traceback (most recent call last)",
      "\u001b[0;32m<ipython-input-184-5c6b4d5d9db0>\u001b[0m in \u001b[0;36m<module>\u001b[0;34m\u001b[0m\n\u001b[0;32m----> 1\u001b[0;31m \u001b[0mspark\u001b[0m\u001b[0;34m.\u001b[0m\u001b[0mstop\u001b[0m\u001b[0;34m(\u001b[0m\u001b[0;34m)\u001b[0m\u001b[0;34m\u001b[0m\u001b[0;34m\u001b[0m\u001b[0m\n\u001b[0m",
      "\u001b[0;32m~/miniconda3/envs/python38/lib/python3.8/site-packages/pyspark/sql/session.py\u001b[0m in \u001b[0;36mstop\u001b[0;34m(self)\u001b[0m\n\u001b[1;32m    705\u001b[0m         \u001b[0mself\u001b[0m\u001b[0;34m.\u001b[0m\u001b[0m_sc\u001b[0m\u001b[0;34m.\u001b[0m\u001b[0mstop\u001b[0m\u001b[0;34m(\u001b[0m\u001b[0;34m)\u001b[0m\u001b[0;34m\u001b[0m\u001b[0;34m\u001b[0m\u001b[0m\n\u001b[1;32m    706\u001b[0m         \u001b[0;31m# We should clean the default session up. See SPARK-23228.\u001b[0m\u001b[0;34m\u001b[0m\u001b[0;34m\u001b[0m\u001b[0;34m\u001b[0m\u001b[0m\n\u001b[0;32m--> 707\u001b[0;31m         \u001b[0mself\u001b[0m\u001b[0;34m.\u001b[0m\u001b[0m_jvm\u001b[0m\u001b[0;34m.\u001b[0m\u001b[0mSparkSession\u001b[0m\u001b[0;34m.\u001b[0m\u001b[0mclearDefaultSession\u001b[0m\u001b[0;34m(\u001b[0m\u001b[0;34m)\u001b[0m\u001b[0;34m\u001b[0m\u001b[0;34m\u001b[0m\u001b[0m\n\u001b[0m\u001b[1;32m    708\u001b[0m         \u001b[0mself\u001b[0m\u001b[0;34m.\u001b[0m\u001b[0m_jvm\u001b[0m\u001b[0;34m.\u001b[0m\u001b[0mSparkSession\u001b[0m\u001b[0;34m.\u001b[0m\u001b[0mclearActiveSession\u001b[0m\u001b[0;34m(\u001b[0m\u001b[0;34m)\u001b[0m\u001b[0;34m\u001b[0m\u001b[0;34m\u001b[0m\u001b[0m\n\u001b[1;32m    709\u001b[0m         \u001b[0mSparkSession\u001b[0m\u001b[0;34m.\u001b[0m\u001b[0m_instantiatedSession\u001b[0m \u001b[0;34m=\u001b[0m \u001b[0;32mNone\u001b[0m\u001b[0;34m\u001b[0m\u001b[0;34m\u001b[0m\u001b[0m\n",
      "\u001b[0;32m~/miniconda3/envs/python38/lib/python3.8/site-packages/py4j/java_gateway.py\u001b[0m in \u001b[0;36m__getattr__\u001b[0;34m(self, name)\u001b[0m\n\u001b[1;32m   1690\u001b[0m             \u001b[0;32mreturn\u001b[0m \u001b[0mUserHelpAutoCompletion\u001b[0m\u001b[0;34m(\u001b[0m\u001b[0;34m)\u001b[0m\u001b[0;34m\u001b[0m\u001b[0;34m\u001b[0m\u001b[0m\n\u001b[1;32m   1691\u001b[0m \u001b[0;34m\u001b[0m\u001b[0m\n\u001b[0;32m-> 1692\u001b[0;31m         answer = self._gateway_client.send_command(\n\u001b[0m\u001b[1;32m   1693\u001b[0m             \u001b[0mproto\u001b[0m\u001b[0;34m.\u001b[0m\u001b[0mREFLECTION_COMMAND_NAME\u001b[0m \u001b[0;34m+\u001b[0m\u001b[0;34m\u001b[0m\u001b[0;34m\u001b[0m\u001b[0m\n\u001b[1;32m   1694\u001b[0m             \u001b[0mproto\u001b[0m\u001b[0;34m.\u001b[0m\u001b[0mREFL_GET_UNKNOWN_SUB_COMMAND_NAME\u001b[0m \u001b[0;34m+\u001b[0m \u001b[0mname\u001b[0m \u001b[0;34m+\u001b[0m \u001b[0;34m\"\\n\"\u001b[0m \u001b[0;34m+\u001b[0m \u001b[0mself\u001b[0m\u001b[0;34m.\u001b[0m\u001b[0m_id\u001b[0m \u001b[0;34m+\u001b[0m\u001b[0;34m\u001b[0m\u001b[0;34m\u001b[0m\u001b[0m\n",
      "\u001b[0;32m~/miniconda3/envs/python38/lib/python3.8/site-packages/py4j/java_gateway.py\u001b[0m in \u001b[0;36msend_command\u001b[0;34m(self, command, retry, binary)\u001b[0m\n\u001b[1;32m   1029\u001b[0m          \u001b[0;32mif\u001b[0m\u001b[0;31m \u001b[0m\u001b[0;31m`\u001b[0m\u001b[0mbinary\u001b[0m\u001b[0;31m`\u001b[0m \u001b[0;32mis\u001b[0m\u001b[0;31m \u001b[0m\u001b[0;31m`\u001b[0m\u001b[0;32mTrue\u001b[0m\u001b[0;31m`\u001b[0m\u001b[0;34m.\u001b[0m\u001b[0;34m\u001b[0m\u001b[0;34m\u001b[0m\u001b[0m\n\u001b[1;32m   1030\u001b[0m         \"\"\"\n\u001b[0;32m-> 1031\u001b[0;31m         \u001b[0mconnection\u001b[0m \u001b[0;34m=\u001b[0m \u001b[0mself\u001b[0m\u001b[0;34m.\u001b[0m\u001b[0m_get_connection\u001b[0m\u001b[0;34m(\u001b[0m\u001b[0;34m)\u001b[0m\u001b[0;34m\u001b[0m\u001b[0;34m\u001b[0m\u001b[0m\n\u001b[0m\u001b[1;32m   1032\u001b[0m         \u001b[0;32mtry\u001b[0m\u001b[0;34m:\u001b[0m\u001b[0;34m\u001b[0m\u001b[0;34m\u001b[0m\u001b[0m\n\u001b[1;32m   1033\u001b[0m             \u001b[0mresponse\u001b[0m \u001b[0;34m=\u001b[0m \u001b[0mconnection\u001b[0m\u001b[0;34m.\u001b[0m\u001b[0msend_command\u001b[0m\u001b[0;34m(\u001b[0m\u001b[0mcommand\u001b[0m\u001b[0;34m)\u001b[0m\u001b[0;34m\u001b[0m\u001b[0;34m\u001b[0m\u001b[0m\n",
      "\u001b[0;32m~/miniconda3/envs/python38/lib/python3.8/site-packages/py4j/java_gateway.py\u001b[0m in \u001b[0;36m_get_connection\u001b[0;34m(self)\u001b[0m\n\u001b[1;32m    977\u001b[0m             \u001b[0mconnection\u001b[0m \u001b[0;34m=\u001b[0m \u001b[0mself\u001b[0m\u001b[0;34m.\u001b[0m\u001b[0mdeque\u001b[0m\u001b[0;34m.\u001b[0m\u001b[0mpop\u001b[0m\u001b[0;34m(\u001b[0m\u001b[0;34m)\u001b[0m\u001b[0;34m\u001b[0m\u001b[0;34m\u001b[0m\u001b[0m\n\u001b[1;32m    978\u001b[0m         \u001b[0;32mexcept\u001b[0m \u001b[0mIndexError\u001b[0m\u001b[0;34m:\u001b[0m\u001b[0;34m\u001b[0m\u001b[0;34m\u001b[0m\u001b[0m\n\u001b[0;32m--> 979\u001b[0;31m             \u001b[0mconnection\u001b[0m \u001b[0;34m=\u001b[0m \u001b[0mself\u001b[0m\u001b[0;34m.\u001b[0m\u001b[0m_create_connection\u001b[0m\u001b[0;34m(\u001b[0m\u001b[0;34m)\u001b[0m\u001b[0;34m\u001b[0m\u001b[0;34m\u001b[0m\u001b[0m\n\u001b[0m\u001b[1;32m    980\u001b[0m         \u001b[0;32mreturn\u001b[0m \u001b[0mconnection\u001b[0m\u001b[0;34m\u001b[0m\u001b[0;34m\u001b[0m\u001b[0m\n\u001b[1;32m    981\u001b[0m \u001b[0;34m\u001b[0m\u001b[0m\n",
      "\u001b[0;32m~/miniconda3/envs/python38/lib/python3.8/site-packages/py4j/java_gateway.py\u001b[0m in \u001b[0;36m_create_connection\u001b[0;34m(self)\u001b[0m\n\u001b[1;32m    983\u001b[0m         connection = GatewayConnection(\n\u001b[1;32m    984\u001b[0m             self.gateway_parameters, self.gateway_property)\n\u001b[0;32m--> 985\u001b[0;31m         \u001b[0mconnection\u001b[0m\u001b[0;34m.\u001b[0m\u001b[0mstart\u001b[0m\u001b[0;34m(\u001b[0m\u001b[0;34m)\u001b[0m\u001b[0;34m\u001b[0m\u001b[0;34m\u001b[0m\u001b[0m\n\u001b[0m\u001b[1;32m    986\u001b[0m         \u001b[0;32mreturn\u001b[0m \u001b[0mconnection\u001b[0m\u001b[0;34m\u001b[0m\u001b[0;34m\u001b[0m\u001b[0m\n\u001b[1;32m    987\u001b[0m \u001b[0;34m\u001b[0m\u001b[0m\n",
      "\u001b[0;32m~/miniconda3/envs/python38/lib/python3.8/site-packages/py4j/java_gateway.py\u001b[0m in \u001b[0;36mstart\u001b[0;34m(self)\u001b[0m\n\u001b[1;32m   1125\u001b[0m                 \u001b[0;34m\"server ({0}:{1})\"\u001b[0m\u001b[0;34m.\u001b[0m\u001b[0mformat\u001b[0m\u001b[0;34m(\u001b[0m\u001b[0mself\u001b[0m\u001b[0;34m.\u001b[0m\u001b[0maddress\u001b[0m\u001b[0;34m,\u001b[0m \u001b[0mself\u001b[0m\u001b[0;34m.\u001b[0m\u001b[0mport\u001b[0m\u001b[0;34m)\u001b[0m\u001b[0;34m\u001b[0m\u001b[0;34m\u001b[0m\u001b[0m\n\u001b[1;32m   1126\u001b[0m             \u001b[0mlogger\u001b[0m\u001b[0;34m.\u001b[0m\u001b[0mexception\u001b[0m\u001b[0;34m(\u001b[0m\u001b[0mmsg\u001b[0m\u001b[0;34m)\u001b[0m\u001b[0;34m\u001b[0m\u001b[0;34m\u001b[0m\u001b[0m\n\u001b[0;32m-> 1127\u001b[0;31m             \u001b[0;32mraise\u001b[0m \u001b[0mPy4JNetworkError\u001b[0m\u001b[0;34m(\u001b[0m\u001b[0mmsg\u001b[0m\u001b[0;34m,\u001b[0m \u001b[0me\u001b[0m\u001b[0;34m)\u001b[0m\u001b[0;34m\u001b[0m\u001b[0;34m\u001b[0m\u001b[0m\n\u001b[0m\u001b[1;32m   1128\u001b[0m \u001b[0;34m\u001b[0m\u001b[0m\n\u001b[1;32m   1129\u001b[0m     \u001b[0;32mdef\u001b[0m \u001b[0m_authenticate_connection\u001b[0m\u001b[0;34m(\u001b[0m\u001b[0mself\u001b[0m\u001b[0;34m)\u001b[0m\u001b[0;34m:\u001b[0m\u001b[0;34m\u001b[0m\u001b[0;34m\u001b[0m\u001b[0m\n",
      "\u001b[0;31mPy4JNetworkError\u001b[0m: An error occurred while trying to connect to the Java server (127.0.0.1:33259)"
     ]
    }
   ],
   "source": [
    "spark.stop()"
   ]
  }
 ],
 "metadata": {
  "deepnote_execution_queue": [],
  "deepnote_notebook_id": "87fd115f-25ed-48ed-ad5a-7ae17a9eb4bc",
  "jupytext": {
   "encoding": "# -*- coding: utf-8 -*-",
   "formats": "ipynb"
  },
  "kernelspec": {
   "display_name": "Python 3",
   "language": "python",
   "name": "python3"
  },
  "language_info": {
   "codemirror_mode": {
    "name": "ipython",
    "version": 3
   },
   "file_extension": ".py",
   "mimetype": "text/x-python",
   "name": "python",
   "nbconvert_exporter": "python",
   "pygments_lexer": "ipython3",
   "version": "3.8.5"
  }
 },
 "nbformat": 4,
 "nbformat_minor": 4
}
